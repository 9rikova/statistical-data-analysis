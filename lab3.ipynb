{
 "cells": [
  {
   "cell_type": "markdown",
   "id": "ongoing-backing",
   "metadata": {},
   "source": [
    "# Лабораторная работа №3\n",
    "Выполнила: *Девятерикова А.В.*  \n",
    "группа: *М8О-401Б-18*  \n"
   ]
  },
  {
   "cell_type": "code",
   "execution_count": 1,
   "id": "intimate-holiday",
   "metadata": {},
   "outputs": [],
   "source": [
    "import numpy as np\n",
    "import pandas as pd\n",
    "import scipy.stats as ss\n",
    "import matplotlib.pyplot as plt"
   ]
  },
  {
   "cell_type": "markdown",
   "id": "subsequent-bidder",
   "metadata": {},
   "source": [
    "Напишем генерацию выборок для  \n",
    "1) линейной зависимости  \n",
    "2) нелинейной монотонной зависимости  \n",
    "3) нелинейной немонотонной зависимости"
   ]
  },
  {
   "cell_type": "code",
   "execution_count": 2,
   "id": "delayed-examination",
   "metadata": {},
   "outputs": [],
   "source": [
    "def lin_mono(mu=0, sigma=1, n=100):\n",
    "    x = np.random.normal(mu, sigma, n)\n",
    "    z = np.random.normal(mu, sigma * 2, n)\n",
    "    y = 0.6 * x + z + 2\n",
    "    return x, y\n",
    "\n",
    "def notlin_mono(mu=0, sigma=1, n=100):\n",
    "    x = np.random.normal(mu, sigma, n)\n",
    "    z = np.random.normal(mu, sigma * 2, n)\n",
    "    y = 0.2 * x ** 3 + z\n",
    "    return x, y\n",
    "\n",
    "def notlin_notmono(mu=0, sigma=1, n=100):\n",
    "    x = np.random.normal(mu, sigma, n)\n",
    "    z = np.random.normal(mu, sigma * 2, n)\n",
    "    y = 0.5 * np.sin(x) + z\n",
    "    return x, y"
   ]
  },
  {
   "cell_type": "markdown",
   "id": "enormous-bread",
   "metadata": {},
   "source": [
    "Напишем функции для критериев\n",
    "1) проверки на корреляцию  \n",
    "2) Спирмена  \n",
    "3) Хи-квадрат Пирсена"
   ]
  },
  {
   "cell_type": "code",
   "execution_count": 3,
   "id": "changed-trunk",
   "metadata": {},
   "outputs": [],
   "source": [
    "def corr_test(x, y, alpha = 0.05):\n",
    "    n = len(x)\n",
    "    x_mean = x.mean()\n",
    "    y_mean = y.mean()\n",
    "    # вычисляем выборочный коэф корреляции\n",
    "    r = (1 / n * np.sum((x - x_mean) * (y - y_mean))) / (1 / n * np.sum((x - x_mean) ** 2) * 1 / n * np.sum((y - y_mean) ** 2)) ** 0.5\n",
    "    t_value = n ** 0.5 * r\n",
    "    p_value = np.min(np.array([2 * ss.norm.cdf(t_value), 2 - 2 * ss.norm.cdf(t_value)]), axis=0)\n",
    "    return (p_value > 0.5 * alpha) and (p_value < (1 - 0.5 * alpha))\n",
    "\n",
    "def Spearman(x, y, alpha = 0.05):\n",
    "    n = len(x)\n",
    "    x_rangs = ss.rankdata(x)\n",
    "    y_rangs = ss.rankdata(y)\n",
    "    r_spearman = 1 - 6 / (n ** 3 - n) * np.sum((x_rangs - y_rangs) ** 2)\n",
    "    t_value = (n-1) ** 0.5 * r_spearman\n",
    "    p_value = np.min(np.array([2 * ss.norm.cdf(t_value), 2 - 2 * ss.norm.cdf(t_value)]), axis=0)\n",
    "    return (p_value > 0.5 * alpha) and (p_value < (1 - 0.5 * alpha))"
   ]
  },
  {
   "cell_type": "code",
   "execution_count": 4,
   "id": "competitive-inspiration",
   "metadata": {},
   "outputs": [],
   "source": [
    "def to_nominal(x, k):\n",
    "    #x_sort = np.sort(x)\n",
    "    x_in_scale = np.zeros(k)\n",
    "    slices = np.linspace(np.min(x), np.max(x), k+1)\n",
    "    for i in range(k):\n",
    "        x_part = x[x >= slices[i]]\n",
    "        x_count = (x_part <= slices[i+1]).sum()\n",
    "        x_in_scale[i] = x_count\n",
    "    return x_in_scale\n",
    "\n",
    "def Pirson(x, y, alpha = 0.05):\n",
    "    n = len(x)\n",
    "    x_nom = to_nominal(x, 5)\n",
    "    y_nom = to_nominal(y, 5)\n",
    "    matrix = np.concatenate(([x_nom], [y_nom])) \n",
    "    chi2_value = 0\n",
    "    for i in range(2):\n",
    "        for j in range(len(x_nom)):\n",
    "            chi2_value += (matrix[i][j] - (np.sum(matrix[i]) * np.sum(matrix[:,j]) / np.sum(matrix))) ** 2 \\\n",
    "            / (np.sum(matrix[i]) * np.sum(matrix[:,j]) / np.sum(matrix))\n",
    "            \n",
    "    # вычисляем p-value\n",
    "    pirson_coeff = (chi2_value / (np.sum(matrix) + chi2_value)) ** 0.5\n",
    "    kramer_coeff = (chi2_value / (np.sum(matrix) * np.min([(len(x_nom) - 1), 1]))) ** 0.5\n",
    "    chuprov_coeff =  (chi2_value / (np.sum(matrix) * ((len(x_nom) - 1)) ** 0.5)) ** 0.5\n",
    "    p_value = 1 - ss.chi2.cdf(chi2_value, (len(x_nom) - 1))\n",
    "    return p_value > alpha\n",
    "        "
   ]
  },
  {
   "cell_type": "markdown",
   "id": "surrounded-senegal",
   "metadata": {},
   "source": [
    "Проведём тест и построим столбчатые диаграммы "
   ]
  },
  {
   "cell_type": "code",
   "execution_count": 5,
   "id": "excessive-fisher",
   "metadata": {},
   "outputs": [
    {
     "name": "stdout",
     "output_type": "stream",
     "text": [
      "(0.27, 0.29, 0.76)\n",
      "(0.35, 0.62, 0.71)\n",
      "(0.56, 0.51, 0.62)\n"
     ]
    }
   ],
   "source": [
    "def test(test, num=100, mu=0, sigma=1, n=100, alpha=0.05):\n",
    "    lm_errors = 0\n",
    "    nm_errors = 0\n",
    "    nn_errors = 0\n",
    "    for i in range(num):\n",
    "        x1, y1 = lin_mono(mu, sigma, n)\n",
    "        x2, y2 = notlin_mono(mu, sigma, n)\n",
    "        x3, y3 = notlin_notmono(mu, sigma, n)\n",
    "        \n",
    "        lm_errors += int(test(x1, y1))\n",
    "        nm_errors += int(test(x2, y2))\n",
    "        nn_errors += int(test(x3, y3))\n",
    "        \n",
    "    return lm_errors / num, nm_errors / num, nn_errors / num\n",
    "\n",
    "t1 = test(corr_test)\n",
    "t2 = test(Spearman)\n",
    "t3 = test(Pirson)\n",
    "print(t1)\n",
    "print(t2)\n",
    "print(t3)"
   ]
  },
  {
   "cell_type": "code",
   "execution_count": 9,
   "id": "cellular-occasions",
   "metadata": {},
   "outputs": [
    {
     "data": {
      "image/png": "[encoded data removed]",
      "text/plain": [
       "<Figure size 1080x432 with 3 Axes>"
      ]
     },
     "metadata": {
      "needs_background": "light"
     },
     "output_type": "display_data"
    }
   ],
   "source": [
    "x = range(3)\n",
    "names = [\"Лин. мон.\", \"Нелин. мон.\", \"Нелин. немон.\"]\n",
    "\n",
    "fig, ax = plt.subplots(1, 3)\n",
    "fig.set_figwidth(15)\n",
    "fig.set_figheight(6) \n",
    "ax[0].bar(x, t1, tick_label=names)\n",
    "ax[1].bar(x, t2, tick_label=names)\n",
    "ax[2].bar(x, t3, tick_label=names)\n",
    "ax[0].set_title('Корреляция')\n",
    "ax[1].set_title('Спирман')\n",
    "ax[2].set_title('Пирсон')\n",
    "plt.show()"
   ]
  },
  {
   "cell_type": "code",
   "execution_count": null,
   "id": "representative-activation",
   "metadata": {},
   "outputs": [],
   "source": []
  }
 ],
 "metadata": {
  "kernelspec": {
   "display_name": "Python 3",
   "language": "python",
   "name": "python3"
  },
  "language_info": {
   "codemirror_mode": {
    "name": "ipython",
    "version": 3
   },
   "file_extension": ".py",
   "mimetype": "text/x-python",
   "name": "python",
   "nbconvert_exporter": "python",
   "pygments_lexer": "ipython3",
   "version": "3.8.8"
  }
 },
 "nbformat": 4,
 "nbformat_minor": 5
}
